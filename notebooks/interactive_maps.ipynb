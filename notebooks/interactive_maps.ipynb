{
 "cells": [
  {
   "cell_type": "markdown",
   "metadata": {},
   "source": [
    "# Interactive Mapping\n",
    "- This notebook will create interactive folium maps and geopandas using .explore()\n",
    "- once maps are formatted to our liking in folium, we can move to depoloying with flask and creating web app with heroku."
   ]
  },
  {
   "cell_type": "code",
   "execution_count": 1,
   "metadata": {},
   "outputs": [],
   "source": [
    "# import the necessary packages\n",
    "import geopandas as gpd\n",
    "import pandas as pd\n",
    "import os"
   ]
  },
  {
   "cell_type": "code",
   "execution_count": 2,
   "metadata": {},
   "outputs": [],
   "source": [
    "# set path\n",
    "directory_path = os.getcwd()\n",
    "parent = os.path.dirname(directory_path)"
   ]
  },
  {
   "cell_type": "code",
   "execution_count": 3,
   "metadata": {},
   "outputs": [],
   "source": [
    "# import pickled dataframes\n",
    "chicago_boundaries = pd.read_pickle(os.path.join(parent,'data/pickle/chicago_boundaries'))\n",
    "loc_aff_index = pd.read_pickle(os.path.join(parent,'data/pickle/location_aff_index'))\n",
    "housing_diss_buffer_250 = pd.read_pickle(os.path.join(parent,'data/pickle/housing_diss_buffer_250'))\n",
    "housing_diss_buffer_500 = pd.read_pickle(os.path.join(parent,'data/pickle/housing_diss_buffer_500'))\n",
    "public_diss_ban = pd.read_pickle(os.path.join(parent,'data/pickle/pub_banish_diss'))"
   ]
  },
  {
   "cell_type": "markdown",
   "metadata": {},
   "source": [
    "## Housing Banishment Interactive"
   ]
  },
  {
   "cell_type": "code",
   "execution_count": 4,
   "metadata": {},
   "outputs": [],
   "source": [
    "# add column with name for tooltip and popup\n",
    "chicago_boundaries['name'] = \"Chicago Boundaries\"\n",
    "housing_diss_buffer_250['Name'] = \"Banishment Zones 250ft buffer\"\n",
    "housing_diss_buffer_500[\"Name\"] = \"Banishment Zones 500ft buffer\""
   ]
  },
  {
   "cell_type": "code",
   "execution_count": 5,
   "metadata": {},
   "outputs": [],
   "source": [
    "# change name of median rent column in loc aff index\n",
    "loc_aff_index.rename(columns={\"median_gro\":\"MEDIAN RENT\"},inplace=True)"
   ]
  },
  {
   "cell_type": "code",
   "execution_count": 6,
   "metadata": {},
   "outputs": [],
   "source": [
    "# plot basemap\n",
    "basemap = chicago_boundaries.boundary.explore(\n",
    "                                    color=\"black\",\n",
    "                                   tiles=\"CartoDB positron\",\n",
    "                                    style_kwds={\"color\":\"black\",\n",
    "                                               \"weight\":3,\n",
    "                                               \"opacity\":0.4})\n",
    "\n",
    "# plot median rent\n",
    "loc_aff_index.explore(column=\"MEDIAN RENT\",\n",
    "                     scheme=\"UserDefined\",\n",
    "                      classification_kwds = {\n",
    "                          'bins':[500,1000,1500,2000]\n",
    "                      },\n",
    "                     m=basemap,\n",
    "                     tooltip=[\"STATE\",\"COUNTY\", \"TRACT\",\"MEDIAN RENT\"],\n",
    "                     legend_kwds = {\n",
    "                         'colorbar':False,\n",
    "                         'caption':\"Median Rent ($USD)\",\n",
    "                         'fmt':\"{:.0f}\",\n",
    "                         'labels':\n",
    "                         [\"Less Than $500\",\"$500 - $1000\",\"$1000 - $1500\",\"$1500 - $2000\",\n",
    "                          \"$2000 and above\"]\n",
    "                     })\n",
    "\n",
    "# plot geometry housing banishment 500ft\n",
    "housing_diss_buffer_500.explore(\n",
    "                               m=basemap,\n",
    "                               color=\"orange\")\n",
    "\n",
    "# plot geometry housing banishment 250ft\n",
    "housing_diss_buffer_250.explore(\n",
    "                                m=basemap,\n",
    "                                color=\"red\")\n",
    "\n",
    "# save html file\n",
    "basemap.save(os.path.join(parent,'data/housing_banishment.html'))"
   ]
  },
  {
   "cell_type": "markdown",
   "metadata": {},
   "source": [
    "## Public Banishment Interactive"
   ]
  },
  {
   "cell_type": "code",
   "execution_count": 7,
   "metadata": {},
   "outputs": [],
   "source": [
    "# add name column for tooltip and popup\n",
    "public_diss_ban[\"Name\"] = \"Public Banishment\""
   ]
  },
  {
   "cell_type": "code",
   "execution_count": 9,
   "metadata": {},
   "outputs": [],
   "source": [
    "# plot basemap\n",
    "basemap = chicago_boundaries.boundary.explore(\n",
    "                                    color=\"black\",\n",
    "                                   tiles=\"CartoDB positron\",\n",
    "                                    style_kwds={\"color\":\"black\",\n",
    "                                               \"weight\":3,\n",
    "                                               \"opacity\":0.4})\n",
    "\n",
    "# plot median rent\n",
    "loc_aff_index.explore(column=\"MEDIAN RENT\",\n",
    "                     scheme=\"UserDefined\",\n",
    "                      classification_kwds = {\n",
    "                          'bins':[500,1000,1500,2000]\n",
    "                      },\n",
    "                     m=basemap,\n",
    "                     tooltip=[\"STATE\",\"COUNTY\", \"TRACT\",\"MEDIAN RENT\"],\n",
    "                     legend_kwds = {\n",
    "                         'colorbar':False,\n",
    "                         'caption':\"Median Rent ($USD)\",\n",
    "                         'fmt':\"{:.0f}\",\n",
    "                         'labels':\n",
    "                         [\"Less Than $500\",\"$500 - $1000\",\"$1000 - $1500\",\"$1500 - $2000\",\n",
    "                          \"$2000 and above\"]\n",
    "                     })\n",
    "\n",
    "\n",
    "# plot geometry housing banishment 250ft\n",
    "public_diss_ban.explode(index_parts=True).explore(\n",
    "                        m=basemap,\n",
    "                        color=\"red\")\n",
    "\n",
    "# save html file\n",
    "basemap.save(os.path.join(parent,'data/public_banishment.html'))"
   ]
  }
 ],
 "metadata": {
  "kernelspec": {
   "display_name": "GIS (geo_env)",
   "language": "python",
   "name": "geo_env"
  },
  "language_info": {
   "codemirror_mode": {
    "name": "ipython",
    "version": 3
   },
   "file_extension": ".py",
   "mimetype": "text/x-python",
   "name": "python",
   "nbconvert_exporter": "python",
   "pygments_lexer": "ipython3",
   "version": "3.9.7"
  }
 },
 "nbformat": 4,
 "nbformat_minor": 4
}
