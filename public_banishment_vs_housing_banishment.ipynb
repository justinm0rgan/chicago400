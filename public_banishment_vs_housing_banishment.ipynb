{
 "cells": [
  {
   "cell_type": "markdown",
   "id": "consecutive-lloyd",
   "metadata": {},
   "source": [
    "# Public vs. Housing Banishment\n",
    "\n",
    "This notebook will focus on separating and creating two distinct shapefiles for:\n",
    "- public banishment\n",
    "- housing banishment\n",
    "\n",
    "Each will also have a 500ft buffer and a 250ft buffer"
   ]
  },
  {
   "cell_type": "code",
   "execution_count": 2,
   "id": "dependent-ordering",
   "metadata": {},
   "outputs": [],
   "source": [
    "import geopandas as gpd\n",
    "import pandas as pd\n",
    "import pickle\n",
    "import numpy as np"
   ]
  },
  {
   "cell_type": "code",
   "execution_count": 9,
   "id": "alert-judges",
   "metadata": {},
   "outputs": [],
   "source": [
    "bike_routes_buffer = pd.read_pickle('./data/pickle/bike_routes_buffer').head()"
   ]
  },
  {
   "cell_type": "code",
   "execution_count": 11,
   "id": "naughty-classification",
   "metadata": {},
   "outputs": [
    {
     "name": "stdout",
     "output_type": "stream",
     "text": [
      "<class 'geopandas.geodataframe.GeoDataFrame'>\n",
      "RangeIndex: 5 entries, 0 to 4\n",
      "Data columns (total 17 columns):\n",
      " #   Column      Non-Null Count  Dtype   \n",
      "---  ------      --------------  -----   \n",
      " 0   displayrou  5 non-null      object  \n",
      " 1   f_street    5 non-null      object  \n",
      " 2   l_f_addr    5 non-null      object  \n",
      " 3   l_t_addr    5 non-null      float64 \n",
      " 4   mi_ctrline  5 non-null      float64 \n",
      " 5   objectid    5 non-null      float64 \n",
      " 6   oneway_dir  0 non-null      object  \n",
      " 7   pre_dir     5 non-null      object  \n",
      " 8   r_f_addr    5 non-null      float64 \n",
      " 9   r_t_addr    5 non-null      float64 \n",
      " 10  st_name     5 non-null      object  \n",
      " 11  st_type     5 non-null      object  \n",
      " 12  street      5 non-null      object  \n",
      " 13  t_street    5 non-null      object  \n",
      " 14  geometry    5 non-null      geometry\n",
      " 15  buffer_500  5 non-null      geometry\n",
      " 16  buffer_250  5 non-null      geometry\n",
      "dtypes: float64(5), geometry(3), object(9)\n",
      "memory usage: 808.0+ bytes\n"
     ]
    }
   ],
   "source": [
    "bike_routes_buffer.info()"
   ]
  },
  {
   "cell_type": "code",
   "execution_count": 12,
   "id": "appointed-recipe",
   "metadata": {},
   "outputs": [],
   "source": [
    "bike_routes_buffer.set_geometry(col='buffer_500', inplace=True)"
   ]
  },
  {
   "cell_type": "code",
   "execution_count": 16,
   "id": "middle-underground",
   "metadata": {},
   "outputs": [
    {
     "data": {
      "text/plain": [
       "<AxesSubplot:>"
      ]
     },
     "execution_count": 16,
     "metadata": {},
     "output_type": "execute_result"
    },
    {
     "data": {
      "image/png": "[encoded data removed]",
      "text/plain": [
       "<Figure size 432x288 with 1 Axes>"
      ]
     },
     "metadata": {
      "needs_background": "light"
     },
     "output_type": "display_data"
    }
   ],
   "source": [
    "bike_routes_buffer.plot()"
   ]
  },
  {
   "cell_type": "code",
   "execution_count": 17,
   "id": "confused-subscriber",
   "metadata": {},
   "outputs": [
    {
     "data": {
      "text/plain": [
       "<AxesSubplot:>"
      ]
     },
     "execution_count": 17,
     "metadata": {},
     "output_type": "execute_result"
    },
    {
     "data": {
      "image/png": "[encoded data removed]",
      "text/plain": [
       "<Figure size 432x288 with 1 Axes>"
      ]
     },
     "metadata": {
      "needs_background": "light"
     },
     "output_type": "display_data"
    }
   ],
   "source": [
    "bike_routes_buffer.set_geometry('geometry', inplace=True)\n",
    "bike_routes_buffer.plot()"
   ]
  },
  {
   "cell_type": "code",
   "execution_count": null,
   "id": "broad-holiday",
   "metadata": {},
   "outputs": [],
   "source": []
  }
 ],
 "metadata": {
  "kernelspec": {
   "display_name": "GIS (geo_env)",
   "language": "python",
   "name": "geo_env"
  },
  "language_info": {
   "codemirror_mode": {
    "name": "ipython",
    "version": 3
   },
   "file_extension": ".py",
   "mimetype": "text/x-python",
   "name": "python",
   "nbconvert_exporter": "python",
   "pygments_lexer": "ipython3",
   "version": "3.9.1"
  }
 },
 "nbformat": 4,
 "nbformat_minor": 5
}
